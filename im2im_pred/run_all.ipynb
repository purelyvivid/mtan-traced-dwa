{
 "cells": [
  {
   "cell_type": "code",
   "execution_count": null,
   "metadata": {},
   "outputs": [],
   "source": [
    "!python model_segnet_mtan.py --weight 'dwa'  --dataroot \"../../datasets/mtan-preprocessed/nyuv2\" > \"log/nyuv2-mtan-dwa.txt\""
   ]
  },
  {
   "cell_type": "code",
   "execution_count": null,
   "metadata": {},
   "outputs": [],
   "source": [
    "!python model_segnet_stan.py --dataroot \"../../datasets/mtan-preprocessed/nyuv2\" > \"log/nyuv2-stan-semantic.txt\""
   ]
  },
  {
   "cell_type": "code",
   "execution_count": null,
   "metadata": {},
   "outputs": [],
   "source": [
    "!python model_segnet_split.py --weight 'dwa' --dataroot \"../../datasets/mtan-preprocessed/nyuv2\" > \"log/nyuv2-split-dwa.txt\""
   ]
  },
  {
   "cell_type": "code",
   "execution_count": null,
   "metadata": {},
   "outputs": [],
   "source": [
    "!python model_segnet_single.py --dataroot \"../../datasets/mtan-preprocessed/nyuv2\" > \"log/nyuv2-single-semantic.txt\""
   ]
  },
  {
   "cell_type": "code",
   "execution_count": null,
   "metadata": {},
   "outputs": [],
   "source": [
    "!python model_segnet_dense.py --weight 'dwa' --dataroot \"../../datasets/mtan-preprocessed/nyuv2\" > \"log/nyuv2-dense-dwa.txt\"\n",
    "!python model_segnet_cross.py --weight 'dwa' --dataroot \"../../datasets/mtan-preprocessed/nyuv2\" > \"log/nyuv2-cross-dwa.txt\"\n",
    "!python model_segnet_dense.py --dataroot \"../../datasets/mtan-preprocessed/nyuv2\" > \"log/nyuv2-dense.txt\"\n",
    "!python model_segnet_cross.py --dataroot \"../../datasets/mtan-preprocessed/nyuv2\" > \"log/nyuv2-cross.txt\"\n",
    "!python model_segnet_mtan.py --dataroot \"../../datasets/mtan-preprocessed/nyuv2\" > \"log/nyuv2-mtan.txt\"\n",
    "!python model_segnet_split.py --dataroot \"../../datasets/mtan-preprocessed/nyuv2\" > \"log/nyuv2-split.txt\""
   ]
  },
  {
   "cell_type": "code",
   "execution_count": null,
   "metadata": {},
   "outputs": [],
   "source": [
    "!python model_segnet_stan.py --dataroot \"../../datasets/mtan-preprocessed/nyuv2\" --task \"depth\" > \"log/nyuv2-stan-depth.txt\"\n",
    "!python model_segnet_single.py --dataroot \"../../datasets/mtan-preprocessed/nyuv2\" --task \"depth\" > \"log/nyuv2-single-depth.txt\"\n",
    "!python model_segnet_stan.py --dataroot \"../../datasets/mtan-preprocessed/nyuv2\" --task \"normal\" > \"log/nyuv2-stan-normal.txt\"\n",
    "!python model_segnet_single.py --dataroot \"../../datasets/mtan-preprocessed/nyuv2\" --task \"normal\" > \"log/nyuv2-single-normal.txt\""
   ]
  },
  {
   "cell_type": "code",
   "execution_count": null,
   "metadata": {},
   "outputs": [],
   "source": [
    "%%bash\n",
    "python model_segnet_mtan-tdwa.py --gpus 0 --second_order_ratio 0.3 --weight 'tdwa'   --dataroot \"../../datasets/mtan-preprocessed/nyuv2\" > \"log/nyuv2-mtan-tdwa-r0.3.txt\""
   ]
  },
  {
   "cell_type": "markdown",
   "metadata": {},
   "source": [
    "$$\\lambda_{k}^{modified}(t)= (1-\\alpha)\\ \\lambda_k(t) + \\alpha\\ \\lambda_k(t)\\ \\lambda_k(t-1)$$"
   ]
  },
  {
   "cell_type": "code",
   "execution_count": 4,
   "metadata": {},
   "outputs": [
    {
     "name": "stdout",
     "output_type": "stream",
     "text": [
      "Wed Jun 10 13:29:12 2020       \n",
      "+-----------------------------------------------------------------------------+\n",
      "| NVIDIA-SMI 440.64       Driver Version: 440.64       CUDA Version: 10.2     |\n",
      "|-------------------------------+----------------------+----------------------+\n",
      "| GPU  Name        Persistence-M| Bus-Id        Disp.A | Volatile Uncorr. ECC |\n",
      "| Fan  Temp  Perf  Pwr:Usage/Cap|         Memory-Usage | GPU-Util  Compute M. |\n",
      "|===============================+======================+======================|\n",
      "|   0  Tesla V100-PCIE...  Off  | 00000000:18:00.0 Off |                    0 |\n",
      "| N/A   57C    P0   173W / 250W |   9373MiB / 32510MiB |     53%      Default |\n",
      "+-------------------------------+----------------------+----------------------+\n",
      "|   1  Tesla V100-PCIE...  Off  | 00000000:3B:00.0 Off |                    0 |\n",
      "| N/A   33C    P0    26W / 250W |     12MiB / 32510MiB |      0%      Default |\n",
      "+-------------------------------+----------------------+----------------------+\n",
      "|   2  Tesla V100-PCIE...  Off  | 00000000:AF:00.0 Off |                    0 |\n",
      "| N/A   34C    P0    24W / 250W |     12MiB / 32510MiB |      0%      Default |\n",
      "+-------------------------------+----------------------+----------------------+\n",
      "|   3  Tesla V100-PCIE...  Off  | 00000000:D8:00.0 Off |                    0 |\n",
      "| N/A   31C    P0    24W / 250W |     12MiB / 32510MiB |      0%      Default |\n",
      "+-------------------------------+----------------------+----------------------+\n",
      "                                                                               \n",
      "+-----------------------------------------------------------------------------+\n",
      "| Processes:                                                       GPU Memory |\n",
      "|  GPU       PID   Type   Process name                             Usage      |\n",
      "|=============================================================================|\n",
      "+-----------------------------------------------------------------------------+\n"
     ]
    }
   ],
   "source": [
    "!nvidia-smi"
   ]
  },
  {
   "cell_type": "code",
   "execution_count": null,
   "metadata": {},
   "outputs": [],
   "source": []
  }
 ],
 "metadata": {
  "kernelspec": {
   "display_name": "Python 3",
   "language": "python",
   "name": "python3"
  },
  "language_info": {
   "codemirror_mode": {
    "name": "ipython",
    "version": 3
   },
   "file_extension": ".py",
   "mimetype": "text/x-python",
   "name": "python",
   "nbconvert_exporter": "python",
   "pygments_lexer": "ipython3",
   "version": "3.7.6"
  }
 },
 "nbformat": 4,
 "nbformat_minor": 4
}
